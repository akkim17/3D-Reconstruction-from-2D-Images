{
 "cells": [
  {
   "cell_type": "code",
   "execution_count": 1,
   "id": "02359875",
   "metadata": {
    "_cell_guid": "b1076dfc-b9ad-4769-8c92-a6c4dae69d19",
    "_uuid": "8f2839f25d086af736a60e9eeb907d3b93b6e0e5",
    "execution": {
     "iopub.execute_input": "2024-02-07T15:36:23.621078Z",
     "iopub.status.busy": "2024-02-07T15:36:23.620677Z",
     "iopub.status.idle": "2024-02-07T15:36:24.434136Z",
     "shell.execute_reply": "2024-02-07T15:36:24.432496Z"
    },
    "papermill": {
     "duration": 0.819687,
     "end_time": "2024-02-07T15:36:24.436093",
     "exception": false,
     "start_time": "2024-02-07T15:36:23.616406",
     "status": "completed"
    },
    "tags": []
   },
   "outputs": [
    {
     "name": "stdout",
     "output_type": "stream",
     "text": [
      "/kaggle/input/images/test.jpg\n",
      "/kaggle/input/sample-images/pot4.jpg\n",
      "/kaggle/input/sample-images/pot3.jpg\n",
      "/kaggle/input/sample-images/potf.jpg\n",
      "/kaggle/input/sample-images/pot2.jpg\n",
      "/kaggle/input/pd-jpg/pd.jpg\n"
     ]
    }
   ],
   "source": [
    "# This Python 3 environment comes with many helpful analytics libraries installed\n",
    "# It is defined by the kaggle/python Docker image: https://github.com/kaggle/docker-python\n",
    "# For example, here's several helpful packages to load\n",
    "\n",
    "import numpy as np # linear algebra\n",
    "import pandas as pd # data processing, CSV file I/O (e.g. pd.read_csv)\n",
    "\n",
    "# Input data files are available in the read-only \"../input/\" directory\n",
    "# For example, running this (by clicking run or pressing Shift+Enter) will list all files under the input directory\n",
    "\n",
    "import os\n",
    "for dirname, _, filenames in os.walk('/kaggle/input'):\n",
    "    for filename in filenames:\n",
    "        print(os.path.join(dirname, filename))\n",
    "\n",
    "# You can write up to 20GB to the current directory (/kaggle/working/) that gets preserved as output when you create a version using \"Save & Run All\" \n",
    "# You can also write temporary files to /kaggle/temp/, but they won't be saved outside of the current session"
   ]
  },
  {
   "cell_type": "code",
   "execution_count": 2,
   "id": "48ee747c",
   "metadata": {
    "execution": {
     "iopub.execute_input": "2024-02-07T15:36:24.442819Z",
     "iopub.status.busy": "2024-02-07T15:36:24.442389Z",
     "iopub.status.idle": "2024-02-07T15:36:25.901249Z",
     "shell.execute_reply": "2024-02-07T15:36:25.900500Z"
    },
    "papermill": {
     "duration": 1.46508,
     "end_time": "2024-02-07T15:36:25.903982",
     "exception": false,
     "start_time": "2024-02-07T15:36:24.438902",
     "status": "completed"
    },
    "tags": []
   },
   "outputs": [
    {
     "name": "stdout",
     "output_type": "stream",
     "text": [
      "\u001b[33mWARNING: Skipping open3d as it is not installed.\u001b[0m\u001b[33m\r\n",
      "\u001b[0mNote: you may need to restart the kernel to use updated packages.\n"
     ]
    }
   ],
   "source": [
    "pip uninstall open3d -y"
   ]
  },
  {
   "cell_type": "code",
   "execution_count": 3,
   "id": "dc3a335e",
   "metadata": {
    "execution": {
     "iopub.execute_input": "2024-02-07T15:36:25.912756Z",
     "iopub.status.busy": "2024-02-07T15:36:25.912423Z",
     "iopub.status.idle": "2024-02-07T15:36:50.579808Z",
     "shell.execute_reply": "2024-02-07T15:36:50.578422Z"
    },
    "papermill": {
     "duration": 24.67329,
     "end_time": "2024-02-07T15:36:50.581791",
     "exception": false,
     "start_time": "2024-02-07T15:36:25.908501",
     "status": "completed"
    },
    "tags": []
   },
   "outputs": [
    {
     "name": "stdout",
     "output_type": "stream",
     "text": [
      "Collecting open3d\r\n",
      "  Downloading open3d-0.18.0-cp310-cp310-manylinux_2_27_x86_64.whl.metadata (4.2 kB)\r\n",
      "Requirement already satisfied: numpy>=1.18.0 in /opt/conda/lib/python3.10/site-packages (from open3d) (1.24.4)\r\n",
      "Collecting dash>=2.6.0 (from open3d)\r\n",
      "  Downloading dash-2.15.0-py3-none-any.whl.metadata (11 kB)\r\n",
      "Requirement already satisfied: werkzeug>=2.2.3 in /opt/conda/lib/python3.10/site-packages (from open3d) (3.0.1)\r\n",
      "Requirement already satisfied: nbformat>=5.7.0 in /opt/conda/lib/python3.10/site-packages (from open3d) (5.9.2)\r\n",
      "Collecting configargparse (from open3d)\r\n",
      "  Downloading ConfigArgParse-1.7-py3-none-any.whl.metadata (23 kB)\r\n",
      "Collecting ipywidgets>=8.0.4 (from open3d)\r\n",
      "  Downloading ipywidgets-8.1.1-py3-none-any.whl.metadata (2.4 kB)\r\n",
      "Collecting addict (from open3d)\r\n",
      "  Downloading addict-2.4.0-py3-none-any.whl (3.8 kB)\r\n",
      "Requirement already satisfied: pillow>=9.3.0 in /opt/conda/lib/python3.10/site-packages (from open3d) (9.5.0)\r\n",
      "Requirement already satisfied: matplotlib>=3 in /opt/conda/lib/python3.10/site-packages (from open3d) (3.7.4)\r\n",
      "Requirement already satisfied: pandas>=1.0 in /opt/conda/lib/python3.10/site-packages (from open3d) (2.2.0)\r\n",
      "Requirement already satisfied: pyyaml>=5.4.1 in /opt/conda/lib/python3.10/site-packages (from open3d) (6.0.1)\r\n",
      "Requirement already satisfied: scikit-learn>=0.21 in /opt/conda/lib/python3.10/site-packages (from open3d) (1.2.2)\r\n",
      "Requirement already satisfied: tqdm in /opt/conda/lib/python3.10/site-packages (from open3d) (4.66.1)\r\n",
      "Collecting pyquaternion (from open3d)\r\n",
      "  Downloading pyquaternion-0.9.9-py3-none-any.whl (14 kB)\r\n",
      "Requirement already satisfied: Flask<3.1,>=1.0.4 in /opt/conda/lib/python3.10/site-packages (from dash>=2.6.0->open3d) (3.0.1)\r\n",
      "Requirement already satisfied: plotly>=5.0.0 in /opt/conda/lib/python3.10/site-packages (from dash>=2.6.0->open3d) (5.18.0)\r\n",
      "Collecting dash-html-components==2.0.0 (from dash>=2.6.0->open3d)\r\n",
      "  Downloading dash_html_components-2.0.0-py3-none-any.whl (4.1 kB)\r\n",
      "Collecting dash-core-components==2.0.0 (from dash>=2.6.0->open3d)\r\n",
      "  Downloading dash_core_components-2.0.0-py3-none-any.whl (3.8 kB)\r\n",
      "Collecting dash-table==5.0.0 (from dash>=2.6.0->open3d)\r\n",
      "  Downloading dash_table-5.0.0-py3-none-any.whl (3.9 kB)\r\n",
      "Requirement already satisfied: typing-extensions>=4.1.1 in /opt/conda/lib/python3.10/site-packages (from dash>=2.6.0->open3d) (4.9.0)\r\n",
      "Requirement already satisfied: requests in /opt/conda/lib/python3.10/site-packages (from dash>=2.6.0->open3d) (2.31.0)\r\n",
      "Requirement already satisfied: retrying in /opt/conda/lib/python3.10/site-packages (from dash>=2.6.0->open3d) (1.3.3)\r\n",
      "Requirement already satisfied: nest-asyncio in /opt/conda/lib/python3.10/site-packages (from dash>=2.6.0->open3d) (1.5.8)\r\n",
      "Requirement already satisfied: setuptools in /opt/conda/lib/python3.10/site-packages (from dash>=2.6.0->open3d) (69.0.3)\r\n",
      "Requirement already satisfied: importlib-metadata in /opt/conda/lib/python3.10/site-packages (from dash>=2.6.0->open3d) (6.11.0)\r\n",
      "Requirement already satisfied: comm>=0.1.3 in /opt/conda/lib/python3.10/site-packages (from ipywidgets>=8.0.4->open3d) (0.2.1)\r\n",
      "Requirement already satisfied: ipython>=6.1.0 in /opt/conda/lib/python3.10/site-packages (from ipywidgets>=8.0.4->open3d) (8.20.0)\r\n",
      "Requirement already satisfied: traitlets>=4.3.1 in /opt/conda/lib/python3.10/site-packages (from ipywidgets>=8.0.4->open3d) (5.9.0)\r\n",
      "Collecting widgetsnbextension~=4.0.9 (from ipywidgets>=8.0.4->open3d)\r\n",
      "  Downloading widgetsnbextension-4.0.9-py3-none-any.whl.metadata (1.6 kB)\r\n",
      "Requirement already satisfied: jupyterlab-widgets~=3.0.9 in /opt/conda/lib/python3.10/site-packages (from ipywidgets>=8.0.4->open3d) (3.0.9)\r\n",
      "Requirement already satisfied: contourpy>=1.0.1 in /opt/conda/lib/python3.10/site-packages (from matplotlib>=3->open3d) (1.2.0)\r\n",
      "Requirement already satisfied: cycler>=0.10 in /opt/conda/lib/python3.10/site-packages (from matplotlib>=3->open3d) (0.12.1)\r\n",
      "Requirement already satisfied: fonttools>=4.22.0 in /opt/conda/lib/python3.10/site-packages (from matplotlib>=3->open3d) (4.47.0)\r\n",
      "Requirement already satisfied: kiwisolver>=1.0.1 in /opt/conda/lib/python3.10/site-packages (from matplotlib>=3->open3d) (1.4.5)\r\n",
      "Requirement already satisfied: packaging>=20.0 in /opt/conda/lib/python3.10/site-packages (from matplotlib>=3->open3d) (21.3)\r\n",
      "Requirement already satisfied: pyparsing>=2.3.1 in /opt/conda/lib/python3.10/site-packages (from matplotlib>=3->open3d) (3.1.1)\r\n",
      "Requirement already satisfied: python-dateutil>=2.7 in /opt/conda/lib/python3.10/site-packages (from matplotlib>=3->open3d) (2.8.2)\r\n",
      "Requirement already satisfied: fastjsonschema in /opt/conda/lib/python3.10/site-packages (from nbformat>=5.7.0->open3d) (2.19.1)\r\n",
      "Requirement already satisfied: jsonschema>=2.6 in /opt/conda/lib/python3.10/site-packages (from nbformat>=5.7.0->open3d) (4.20.0)\r\n",
      "Requirement already satisfied: jupyter-core in /opt/conda/lib/python3.10/site-packages (from nbformat>=5.7.0->open3d) (5.7.1)\r\n",
      "Requirement already satisfied: pytz>=2020.1 in /opt/conda/lib/python3.10/site-packages (from pandas>=1.0->open3d) (2023.3.post1)\r\n",
      "Requirement already satisfied: tzdata>=2022.7 in /opt/conda/lib/python3.10/site-packages (from pandas>=1.0->open3d) (2023.4)\r\n",
      "Requirement already satisfied: scipy>=1.3.2 in /opt/conda/lib/python3.10/site-packages (from scikit-learn>=0.21->open3d) (1.11.4)\r\n",
      "Requirement already satisfied: joblib>=1.1.1 in /opt/conda/lib/python3.10/site-packages (from scikit-learn>=0.21->open3d) (1.3.2)\r\n",
      "Requirement already satisfied: threadpoolctl>=2.0.0 in /opt/conda/lib/python3.10/site-packages (from scikit-learn>=0.21->open3d) (3.2.0)\r\n",
      "Requirement already satisfied: MarkupSafe>=2.1.1 in /opt/conda/lib/python3.10/site-packages (from werkzeug>=2.2.3->open3d) (2.1.3)\r\n",
      "Requirement already satisfied: Jinja2>=3.1.2 in /opt/conda/lib/python3.10/site-packages (from Flask<3.1,>=1.0.4->dash>=2.6.0->open3d) (3.1.2)\r\n",
      "Requirement already satisfied: itsdangerous>=2.1.2 in /opt/conda/lib/python3.10/site-packages (from Flask<3.1,>=1.0.4->dash>=2.6.0->open3d) (2.1.2)\r\n",
      "Requirement already satisfied: click>=8.1.3 in /opt/conda/lib/python3.10/site-packages (from Flask<3.1,>=1.0.4->dash>=2.6.0->open3d) (8.1.7)\r\n",
      "Requirement already satisfied: blinker>=1.6.2 in /opt/conda/lib/python3.10/site-packages (from Flask<3.1,>=1.0.4->dash>=2.6.0->open3d) (1.7.0)\r\n",
      "Requirement already satisfied: decorator in /opt/conda/lib/python3.10/site-packages (from ipython>=6.1.0->ipywidgets>=8.0.4->open3d) (5.1.1)\r\n",
      "Requirement already satisfied: jedi>=0.16 in /opt/conda/lib/python3.10/site-packages (from ipython>=6.1.0->ipywidgets>=8.0.4->open3d) (0.19.1)\r\n",
      "Requirement already satisfied: matplotlib-inline in /opt/conda/lib/python3.10/site-packages (from ipython>=6.1.0->ipywidgets>=8.0.4->open3d) (0.1.6)\r\n",
      "Requirement already satisfied: prompt-toolkit<3.1.0,>=3.0.41 in /opt/conda/lib/python3.10/site-packages (from ipython>=6.1.0->ipywidgets>=8.0.4->open3d) (3.0.42)\r\n",
      "Requirement already satisfied: pygments>=2.4.0 in /opt/conda/lib/python3.10/site-packages (from ipython>=6.1.0->ipywidgets>=8.0.4->open3d) (2.17.2)\r\n",
      "Requirement already satisfied: stack-data in /opt/conda/lib/python3.10/site-packages (from ipython>=6.1.0->ipywidgets>=8.0.4->open3d) (0.6.2)\r\n",
      "Requirement already satisfied: exceptiongroup in /opt/conda/lib/python3.10/site-packages (from ipython>=6.1.0->ipywidgets>=8.0.4->open3d) (1.2.0)\r\n",
      "Requirement already satisfied: pexpect>4.3 in /opt/conda/lib/python3.10/site-packages (from ipython>=6.1.0->ipywidgets>=8.0.4->open3d) (4.8.0)\r\n",
      "Requirement already satisfied: attrs>=22.2.0 in /opt/conda/lib/python3.10/site-packages (from jsonschema>=2.6->nbformat>=5.7.0->open3d) (23.2.0)\r\n",
      "Requirement already satisfied: jsonschema-specifications>=2023.03.6 in /opt/conda/lib/python3.10/site-packages (from jsonschema>=2.6->nbformat>=5.7.0->open3d) (2023.12.1)\r\n",
      "Requirement already satisfied: referencing>=0.28.4 in /opt/conda/lib/python3.10/site-packages (from jsonschema>=2.6->nbformat>=5.7.0->open3d) (0.32.1)\r\n",
      "Requirement already satisfied: rpds-py>=0.7.1 in /opt/conda/lib/python3.10/site-packages (from jsonschema>=2.6->nbformat>=5.7.0->open3d) (0.16.2)\r\n",
      "Requirement already satisfied: tenacity>=6.2.0 in /opt/conda/lib/python3.10/site-packages (from plotly>=5.0.0->dash>=2.6.0->open3d) (8.2.3)\r\n",
      "Requirement already satisfied: six>=1.5 in /opt/conda/lib/python3.10/site-packages (from python-dateutil>=2.7->matplotlib>=3->open3d) (1.16.0)\r\n",
      "Requirement already satisfied: zipp>=0.5 in /opt/conda/lib/python3.10/site-packages (from importlib-metadata->dash>=2.6.0->open3d) (3.17.0)\r\n",
      "Requirement already satisfied: platformdirs>=2.5 in /opt/conda/lib/python3.10/site-packages (from jupyter-core->nbformat>=5.7.0->open3d) (4.1.0)\r\n",
      "Requirement already satisfied: charset-normalizer<4,>=2 in /opt/conda/lib/python3.10/site-packages (from requests->dash>=2.6.0->open3d) (3.3.2)\r\n",
      "Requirement already satisfied: idna<4,>=2.5 in /opt/conda/lib/python3.10/site-packages (from requests->dash>=2.6.0->open3d) (3.6)\r\n",
      "Requirement already satisfied: urllib3<3,>=1.21.1 in /opt/conda/lib/python3.10/site-packages (from requests->dash>=2.6.0->open3d) (1.26.18)\r\n",
      "Requirement already satisfied: certifi>=2017.4.17 in /opt/conda/lib/python3.10/site-packages (from requests->dash>=2.6.0->open3d) (2023.11.17)\r\n",
      "Requirement already satisfied: parso<0.9.0,>=0.8.3 in /opt/conda/lib/python3.10/site-packages (from jedi>=0.16->ipython>=6.1.0->ipywidgets>=8.0.4->open3d) (0.8.3)\r\n",
      "Requirement already satisfied: ptyprocess>=0.5 in /opt/conda/lib/python3.10/site-packages (from pexpect>4.3->ipython>=6.1.0->ipywidgets>=8.0.4->open3d) (0.7.0)\r\n",
      "Requirement already satisfied: wcwidth in /opt/conda/lib/python3.10/site-packages (from prompt-toolkit<3.1.0,>=3.0.41->ipython>=6.1.0->ipywidgets>=8.0.4->open3d) (0.2.13)\r\n",
      "Requirement already satisfied: executing>=1.2.0 in /opt/conda/lib/python3.10/site-packages (from stack-data->ipython>=6.1.0->ipywidgets>=8.0.4->open3d) (2.0.1)\r\n",
      "Requirement already satisfied: asttokens>=2.1.0 in /opt/conda/lib/python3.10/site-packages (from stack-data->ipython>=6.1.0->ipywidgets>=8.0.4->open3d) (2.4.1)\r\n",
      "Requirement already satisfied: pure-eval in /opt/conda/lib/python3.10/site-packages (from stack-data->ipython>=6.1.0->ipywidgets>=8.0.4->open3d) (0.2.2)\r\n",
      "Downloading open3d-0.18.0-cp310-cp310-manylinux_2_27_x86_64.whl (399.7 MB)\r\n",
      "\u001b[2K   \u001b[90m━━━━━━━━━━━━━━━━━━━━━━━━━━━━━━━━━━━━━━━━\u001b[0m \u001b[32m399.7/399.7 MB\u001b[0m \u001b[31m4.4 MB/s\u001b[0m eta \u001b[36m0:00:00\u001b[0m\r\n",
      "\u001b[?25hDownloading dash-2.15.0-py3-none-any.whl (10.2 MB)\r\n",
      "\u001b[2K   \u001b[90m━━━━━━━━━━━━━━━━━━━━━━━━━━━━━━━━━━━━━━━━\u001b[0m \u001b[32m10.2/10.2 MB\u001b[0m \u001b[31m100.4 MB/s\u001b[0m eta \u001b[36m0:00:00\u001b[0m\r\n",
      "\u001b[?25hDownloading ipywidgets-8.1.1-py3-none-any.whl (139 kB)\r\n",
      "\u001b[2K   \u001b[90m━━━━━━━━━━━━━━━━━━━━━━━━━━━━━━━━━━━━━━━━\u001b[0m \u001b[32m139.4/139.4 kB\u001b[0m \u001b[31m6.8 MB/s\u001b[0m eta \u001b[36m0:00:00\u001b[0m\r\n",
      "\u001b[?25hDownloading ConfigArgParse-1.7-py3-none-any.whl (25 kB)\r\n",
      "Downloading widgetsnbextension-4.0.9-py3-none-any.whl (2.3 MB)\r\n",
      "\u001b[2K   \u001b[90m━━━━━━━━━━━━━━━━━━━━━━━━━━━━━━━━━━━━━━━━\u001b[0m \u001b[32m2.3/2.3 MB\u001b[0m \u001b[31m68.0 MB/s\u001b[0m eta \u001b[36m0:00:00\u001b[0m\r\n",
      "\u001b[?25hInstalling collected packages: dash-table, dash-html-components, dash-core-components, addict, widgetsnbextension, pyquaternion, configargparse, dash, ipywidgets, open3d\r\n",
      "  Attempting uninstall: widgetsnbextension\r\n",
      "    Found existing installation: widgetsnbextension 3.6.6\r\n",
      "    Uninstalling widgetsnbextension-3.6.6:\r\n",
      "      Successfully uninstalled widgetsnbextension-3.6.6\r\n",
      "  Attempting uninstall: ipywidgets\r\n",
      "    Found existing installation: ipywidgets 7.7.1\r\n",
      "    Uninstalling ipywidgets-7.7.1:\r\n",
      "      Successfully uninstalled ipywidgets-7.7.1\r\n",
      "Successfully installed addict-2.4.0 configargparse-1.7 dash-2.15.0 dash-core-components-2.0.0 dash-html-components-2.0.0 dash-table-5.0.0 ipywidgets-8.1.1 open3d-0.18.0 pyquaternion-0.9.9 widgetsnbextension-4.0.9\r\n",
      "Note: you may need to restart the kernel to use updated packages.\n"
     ]
    }
   ],
   "source": [
    "pip install open3d"
   ]
  },
  {
   "cell_type": "code",
   "execution_count": 4,
   "id": "8d17b633",
   "metadata": {
    "execution": {
     "iopub.execute_input": "2024-02-07T15:36:50.604400Z",
     "iopub.status.busy": "2024-02-07T15:36:50.604083Z",
     "iopub.status.idle": "2024-02-07T15:36:57.197665Z",
     "shell.execute_reply": "2024-02-07T15:36:57.196348Z"
    },
    "papermill": {
     "duration": 6.607615,
     "end_time": "2024-02-07T15:36:57.199992",
     "exception": false,
     "start_time": "2024-02-07T15:36:50.592377",
     "status": "completed"
    },
    "tags": []
   },
   "outputs": [
    {
     "name": "stdout",
     "output_type": "stream",
     "text": [
      "Jupyter environment detected. Enabling Open3D WebVisualizer.\n",
      "[Open3D INFO] WebRTC GUI backend enabled.\n",
      "[Open3D INFO] WebRTCWindowSystem: HTTP handshake server disabled.\n",
      "Precompute neighbors.[========================================] 100%\n",
      "Precompute neighbors.[========================================] 100%\n",
      "Precompute neighbors.[========================================] 100%\n",
      "Precompute neighbors.[========================================] 100%\n",
      "Precompute neighbors.[========================================] 100%\n",
      "Precompute neighbors.[========================================] 100%\n",
      "Precompute neighbors.[========================================] 100%\n",
      "Precompute neighbors.[========================================] 100%\n",
      "Precompute neighbors.[========================================] 100%\n",
      "Precompute neighbors.[=======================================>] 97%\r"
     ]
    },
    {
     "data": {
      "text/plain": [
       "True"
      ]
     },
     "execution_count": 4,
     "metadata": {},
     "output_type": "execute_result"
    }
   ],
   "source": [
    "import numpy as np\n",
    "from PIL import Image\n",
    "import open3d as o3d\n",
    "\n",
    "# Load the 2D images\n",
    "images = []\n",
    "for i in range(10):\n",
    "    image = Image.open(\"/kaggle/input/pd-jpg/pd.jpg\".format(i))\n",
    "    image = image.resize((256, 256))\n",
    "    images.append(np.array(image))\n",
    "\n",
    "# Convert the 2D images to a point cloud\n",
    "point_cloud = o3d.geometry.PointCloud()\n",
    "for i in range(10):\n",
    "    img = images[i]\n",
    "    h, w, _ = img.shape\n",
    "    img_points = np.column_stack(np.where(np.any(img > 0, axis=-1)))\n",
    "    img_points[:, [0, 1]] = img_points[:, [1, 0]]  \n",
    "    depth_values = img[img_points[:, 0], img_points[:, 1], 0]  # Use the depth from the red channel (assuming it's the depth map)\n",
    "    points = np.column_stack((img_points, depth_values))\n",
    "    points[:, :2] = points[:, :2] - np.array([w / 2, h / 2])  # Centering the points\n",
    "    pcd = o3d.geometry.PointCloud(o3d.utility.Vector3dVector(points))\n",
    "\n",
    "    # Create a DBSCAN object\n",
    "    eps = 0.1  \n",
    "    min_points = 50 \n",
    "    labels = np.array(pcd.cluster_dbscan(eps=eps, min_points=min_points, print_progress=True))\n",
    "\n",
    "    # Assign the labels to the points\n",
    "    pcd.colors = o3d.utility.Vector3dVector(np.random.rand(len(labels), 3))\n",
    "    for i in range(len(labels)):\n",
    "        pcd.colors[i] = pcd.colors[labels[i]]\n",
    "\n",
    "    # Add the clustered point cloud to the overall point cloud\n",
    "    point_cloud += pcd\n",
    "\n",
    "# Save the point cloud\n",
    "o3d.io.write_point_cloud(\"/kaggle/working/point_cloud.ply\", point_cloud)\n"
   ]
  },
  {
   "cell_type": "code",
   "execution_count": 5,
   "id": "def0f443",
   "metadata": {
    "execution": {
     "iopub.execute_input": "2024-02-07T15:36:57.227151Z",
     "iopub.status.busy": "2024-02-07T15:36:57.226666Z",
     "iopub.status.idle": "2024-02-07T15:37:10.841954Z",
     "shell.execute_reply": "2024-02-07T15:37:10.841007Z"
    },
    "papermill": {
     "duration": 13.630795,
     "end_time": "2024-02-07T15:37:10.844155",
     "exception": false,
     "start_time": "2024-02-07T15:36:57.213360",
     "status": "completed"
    },
    "tags": []
   },
   "outputs": [
    {
     "data": {
      "text/plain": [
       "True"
      ]
     },
     "execution_count": 5,
     "metadata": {},
     "output_type": "execute_result"
    }
   ],
   "source": [
    "import open3d as o3d\n",
    "\n",
    "# Load the point cloud from a PLY file\n",
    "pcd = o3d.io.read_point_cloud(\"/kaggle/working/point_cloud.ply\")\n",
    "\n",
    "# Compute normals for the point cloud\n",
    "pcd.estimate_normals(search_param=o3d.geometry.KDTreeSearchParamHybrid(radius=0.1, max_nn=30))\n",
    "\n",
    "# Reconstruct the mesh using Screened Poisson Surface Reconstruction\n",
    "mesh, densities = o3d.geometry.TriangleMesh.create_from_point_cloud_poisson(pcd, depth=9, width=0, scale=1.1, linear_fit=True)\n",
    "\n",
    "# Save the mesh to a PLY file\n",
    "o3d.io.write_triangle_mesh(\"/kaggle/working/output_screened_poisson.ply\", mesh)\n"
   ]
  },
  {
   "cell_type": "code",
   "execution_count": 6,
   "id": "66708292",
   "metadata": {
    "execution": {
     "iopub.execute_input": "2024-02-07T15:37:10.870450Z",
     "iopub.status.busy": "2024-02-07T15:37:10.870102Z",
     "iopub.status.idle": "2024-02-07T15:49:50.526781Z",
     "shell.execute_reply": "2024-02-07T15:49:50.525300Z"
    },
    "papermill": {
     "duration": 759.686484,
     "end_time": "2024-02-07T15:49:50.542746",
     "exception": false,
     "start_time": "2024-02-07T15:37:10.856262",
     "status": "completed"
    },
    "tags": []
   },
   "outputs": [
    {
     "name": "stdout",
     "output_type": "stream",
     "text": [
      "Epoch 1/50, Loss: 15378.078125\n",
      "Epoch 2/50, Loss: 15185.2587890625\n",
      "Epoch 3/50, Loss: 14802.19921875\n",
      "Epoch 4/50, Loss: 14143.34375\n",
      "Epoch 5/50, Loss: 13165.0224609375\n",
      "Epoch 6/50, Loss: 11837.8642578125\n",
      "Epoch 7/50, Loss: 10161.837890625\n",
      "Epoch 8/50, Loss: 8205.3974609375\n",
      "Epoch 9/50, Loss: 6147.3515625\n",
      "Epoch 10/50, Loss: 5158.875\n",
      "Epoch 11/50, Loss: 4249.126953125\n",
      "Epoch 12/50, Loss: 3479.06689453125\n",
      "Epoch 13/50, Loss: 2904.34326171875\n",
      "Epoch 14/50, Loss: 2541.999267578125\n",
      "Epoch 15/50, Loss: 2319.236083984375\n",
      "Epoch 16/50, Loss: 2090.033447265625\n",
      "Epoch 17/50, Loss: 1761.7037353515625\n",
      "Epoch 18/50, Loss: 1543.259033203125\n",
      "Epoch 19/50, Loss: 1289.1917724609375\n",
      "Epoch 20/50, Loss: 1031.8712158203125\n",
      "Epoch 21/50, Loss: 797.4583129882812\n",
      "Epoch 22/50, Loss: 602.6226806640625\n",
      "Epoch 23/50, Loss: 454.6861267089844\n",
      "Epoch 24/50, Loss: 352.8699645996094\n",
      "Epoch 25/50, Loss: 290.53466796875\n",
      "Epoch 26/50, Loss: 270.80657958984375\n",
      "Epoch 27/50, Loss: 255.91383361816406\n",
      "Epoch 28/50, Loss: 243.87283325195312\n",
      "Epoch 29/50, Loss: 233.08633422851562\n",
      "Epoch 30/50, Loss: 222.35989379882812\n",
      "Epoch 31/50, Loss: 210.9044647216797\n",
      "Epoch 32/50, Loss: 198.30984497070312\n",
      "Epoch 33/50, Loss: 184.4888916015625\n",
      "Epoch 34/50, Loss: 176.89491271972656\n",
      "Epoch 35/50, Loss: 168.5919952392578\n",
      "Epoch 36/50, Loss: 159.74624633789062\n",
      "Epoch 37/50, Loss: 150.54266357421875\n",
      "Epoch 38/50, Loss: 141.17115783691406\n",
      "Epoch 39/50, Loss: 131.81585693359375\n",
      "Epoch 40/50, Loss: 122.64697265625\n",
      "Epoch 41/50, Loss: 113.81600952148438\n",
      "Epoch 42/50, Loss: 109.55207824707031\n",
      "Epoch 43/50, Loss: 105.38972473144531\n",
      "Epoch 44/50, Loss: 101.35208129882812\n",
      "Epoch 45/50, Loss: 97.45806121826172\n",
      "Epoch 46/50, Loss: 93.72248077392578\n",
      "Epoch 47/50, Loss: 90.15563201904297\n",
      "Epoch 48/50, Loss: 86.76455688476562\n",
      "Epoch 49/50, Loss: 83.55262756347656\n",
      "Epoch 50/50, Loss: 82.01715087890625\n"
     ]
    },
    {
     "data": {
      "text/plain": [
       "True"
      ]
     },
     "execution_count": 6,
     "metadata": {},
     "output_type": "execute_result"
    }
   ],
   "source": [
    "import torch\n",
    "import torch.nn as nn\n",
    "import torch.optim as optim\n",
    "from torch.autograd import Variable\n",
    "import open3d as o3d\n",
    "import numpy as np\n",
    "\n",
    "# Define a more complex CNN for 3D shape completion/generation\n",
    "class ImprovedMeshGeneratorCNN(nn.Module):\n",
    "    def __init__(self, num_points):\n",
    "        super(ImprovedMeshGeneratorCNN, self).__init__()\n",
    "        self.num_points = num_points\n",
    "        self.conv1 = nn.Conv1d(3, 64, kernel_size=1)\n",
    "        self.conv2 = nn.Conv1d(64, 128, kernel_size=1)\n",
    "        self.conv3 = nn.Conv1d(128, 256, kernel_size=1)\n",
    "        self.fc1 = nn.Linear(256, 512)\n",
    "        self.fc2 = nn.Linear(512, 3 * self.num_points)\n",
    "\n",
    "    def forward(self, input_cloud):\n",
    "        x = self.conv1(input_cloud)\n",
    "        x = nn.functional.relu(x)\n",
    "        x = self.conv2(x)\n",
    "        x = nn.functional.relu(x)\n",
    "        x = self.conv3(x)\n",
    "        x = torch.max(x, dim=2)[0]  \n",
    "        x = self.fc1(x)\n",
    "        x = nn.functional.relu(x)\n",
    "        x = self.fc2(x)\n",
    "        output_mesh = x.view(-1, 3, self.num_points)\n",
    "\n",
    "        return output_mesh\n",
    "\n",
    "# Load the mesh from a .ply file\n",
    "mesh = o3d.io.read_triangle_mesh(\"/kaggle/working/output_screened_poisson.ply\")\n",
    "\n",
    "# Convert the mesh to a point cloud\n",
    "point_cloud = np.asarray(mesh.vertices).T  \n",
    "\n",
    "num_points = point_cloud.shape[1]\n",
    "\n",
    "# Create a more complex MeshGeneratorCNN model\n",
    "improved_mesh_generator_cnn = ImprovedMeshGeneratorCNN(num_points)\n",
    "\n",
    "# Convert the input point cloud to a PyTorch tensor\n",
    "input_cloud = torch.tensor(point_cloud, dtype=torch.float32).unsqueeze(0)\n",
    "\n",
    "# Specify the device (GPU if available, otherwise CPU)\n",
    "device = torch.device(\"cuda\" if torch.cuda.is_available() else \"cpu\")\n",
    "\n",
    "# Move the model and input data to the device\n",
    "improved_mesh_generator_cnn.to(device)\n",
    "input_cloud = input_cloud.to(device)\n",
    "\n",
    "# Use a more sophisticated optimizer and scheduler\n",
    "optimizer = optim.Adam(improved_mesh_generator_cnn.parameters(), lr=0.001)\n",
    "scheduler = optim.lr_scheduler.StepLR(optimizer, step_size=8, gamma=0.5)\n",
    "\n",
    "# Specify an appropriate loss function \n",
    "loss_function = nn.MSELoss()\n",
    "\n",
    "# Training loop\n",
    "num_epochs = 50  \n",
    "for epoch in range(num_epochs):\n",
    "    improved_mesh_generator_cnn.train()\n",
    "\n",
    "    # Forward pass\n",
    "    output_mesh = improved_mesh_generator_cnn(input_cloud)\n",
    "\n",
    "    # Compute the loss\n",
    "    loss = loss_function(output_mesh, input_cloud)\n",
    "\n",
    "    # Backward pass and optimization\n",
    "    optimizer.zero_grad()\n",
    "    loss.backward()\n",
    "    optimizer.step()\n",
    "\n",
    "    # Adjust learning rate\n",
    "    scheduler.step()\n",
    "\n",
    "    # Print training progress\n",
    "    print(f\"Epoch {epoch + 1}/{num_epochs}, Loss: {loss.item()}\")\n",
    "\n",
    "# Convert the output mesh from PyTorch tensor to NumPy array\n",
    "generated_mesh_np = output_mesh.detach().cpu().numpy().squeeze().transpose()\n",
    "\n",
    "# Create a new Open3D TriangleMesh from the generated vertices and faces\n",
    "generated_mesh = o3d.geometry.TriangleMesh()\n",
    "generated_mesh.vertices = o3d.utility.Vector3dVector(generated_mesh_np)\n",
    "generated_mesh.triangles = o3d.utility.Vector3iVector(mesh.triangles)\n",
    "\n",
    "# Save the generated mesh to an .obj file\n",
    "o3d.io.write_triangle_mesh(\"/kaggle/working/improved_output_generated_cnn.obj\", generated_mesh)\n"
   ]
  },
  {
   "cell_type": "code",
   "execution_count": null,
   "id": "842d445a",
   "metadata": {
    "papermill": {
     "duration": 0.014543,
     "end_time": "2024-02-07T15:49:50.572067",
     "exception": false,
     "start_time": "2024-02-07T15:49:50.557524",
     "status": "completed"
    },
    "tags": []
   },
   "outputs": [],
   "source": []
  },
  {
   "cell_type": "code",
   "execution_count": null,
   "id": "4c1ed23a",
   "metadata": {
    "papermill": {
     "duration": 0.013898,
     "end_time": "2024-02-07T15:49:50.600340",
     "exception": false,
     "start_time": "2024-02-07T15:49:50.586442",
     "status": "completed"
    },
    "tags": []
   },
   "outputs": [],
   "source": []
  }
 ],
 "metadata": {
  "kaggle": {
   "accelerator": "none",
   "dataSources": [
    {
     "datasetId": 4060245,
     "sourceId": 7054449,
     "sourceType": "datasetVersion"
    },
    {
     "datasetId": 4068709,
     "sourceId": 7066120,
     "sourceType": "datasetVersion"
    },
    {
     "datasetId": 4068931,
     "sourceId": 7066416,
     "sourceType": "datasetVersion"
    }
   ],
   "isGpuEnabled": false,
   "isInternetEnabled": true,
   "language": "python",
   "sourceType": "notebook"
  },
  "kernelspec": {
   "display_name": "Python 3",
   "language": "python",
   "name": "python3"
  },
  "language_info": {
   "codemirror_mode": {
    "name": "ipython",
    "version": 3
   },
   "file_extension": ".py",
   "mimetype": "text/x-python",
   "name": "python",
   "nbconvert_exporter": "python",
   "pygments_lexer": "ipython3",
   "version": "3.10.13"
  },
  "papermill": {
   "default_parameters": {},
   "duration": 811.915617,
   "end_time": "2024-02-07T15:49:53.234651",
   "environment_variables": {},
   "exception": null,
   "input_path": "__notebook__.ipynb",
   "output_path": "__notebook__.ipynb",
   "parameters": {},
   "start_time": "2024-02-07T15:36:21.319034",
   "version": "2.5.0"
  }
 },
 "nbformat": 4,
 "nbformat_minor": 5
}
